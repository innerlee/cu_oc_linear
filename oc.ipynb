{
 "cells": [
  {
   "cell_type": "code",
   "execution_count": 1,
   "metadata": {},
   "outputs": [],
   "source": [
    "import numpy as np\n",
    "import matplotlib.pyplot as plt\n",
    "import matplotlib.font_manager\n",
    "from sklearn import svm\n",
    "\n",
    "xx, yy = np.meshgrid(np.linspace(-5, 5, 500), np.linspace(-5, 5, 500))\n",
    "# Generate train data\n",
    "X = 0.3 * np.random.randn(100, 2)\n",
    "X_train = np.r_[X + 2, X - 2]\n",
    "# Generate some regular novel observations\n",
    "X = 0.3 * np.random.randn(20, 2)\n",
    "X_test = np.r_[X + 2, X - 2]\n",
    "# Generate some abnormal novel observations\n",
    "X_outliers = np.random.uniform(low=-4, high=4, size=(20, 2))"
   ]
  },
  {
   "cell_type": "code",
   "execution_count": 20,
   "metadata": {},
   "outputs": [
    {
     "name": "stdout",
     "output_type": "stream",
     "text": [
      "Accuracy = 0% (0/40) (classification)\n"
     ]
    }
   ],
   "source": [
    "prob = problem(np.ones(len(X_train)), X_train)\n",
    "param = parameter('-s 21')\n",
    "m = train(prob, param) # m is a ctype pointer to a model\n",
    "# Convert a Python-format instance to feature_nodearray, a ctypes structure\n",
    "label = predict([], X_test, m)"
   ]
  },
  {
   "cell_type": "code",
   "execution_count": 21,
   "metadata": {},
   "outputs": [
    {
     "data": {
      "text/plain": [
       "([1.0,\n",
       "  1.0,\n",
       "  -1.0,\n",
       "  -1.0,\n",
       "  1.0,\n",
       "  1.0,\n",
       "  -1.0,\n",
       "  -1.0,\n",
       "  1.0,\n",
       "  1.0,\n",
       "  1.0,\n",
       "  -1.0,\n",
       "  -1.0,\n",
       "  -1.0,\n",
       "  -1.0,\n",
       "  -1.0,\n",
       "  -1.0,\n",
       "  -1.0,\n",
       "  -1.0,\n",
       "  -1.0,\n",
       "  1.0,\n",
       "  1.0,\n",
       "  -1.0,\n",
       "  -1.0,\n",
       "  1.0,\n",
       "  1.0,\n",
       "  -1.0,\n",
       "  -1.0,\n",
       "  1.0,\n",
       "  1.0,\n",
       "  1.0,\n",
       "  -1.0,\n",
       "  -1.0,\n",
       "  -1.0,\n",
       "  -1.0,\n",
       "  -1.0,\n",
       "  -1.0,\n",
       "  -1.0,\n",
       "  -1.0,\n",
       "  -1.0],\n",
       " (0.0, 1.0, nan),\n",
       " [[7.910582058918126e-05],\n",
       "  [0.000565854674889129],\n",
       "  [-6.287521879862751e-05],\n",
       "  [-0.0002816307442153808],\n",
       "  [0.00016505486652791985],\n",
       "  [0.0001231786080258822],\n",
       "  [-0.0008017741592766667],\n",
       "  [-0.00020062463444147225],\n",
       "  [0.00013317080101650603],\n",
       "  [0.0002095611383969681],\n",
       "  [0.000353908909161138],\n",
       "  [-7.3120985344601e-05],\n",
       "  [-0.00046266773149087205],\n",
       "  [-0.0005971797071737255],\n",
       "  [-0.00018424536795625776],\n",
       "  [-0.0003853385178716858],\n",
       "  [-0.0003618137717003709],\n",
       "  [-0.0007427098608346004],\n",
       "  [-0.0004528074832232358],\n",
       "  [-0.0004559457763349551],\n",
       "  [7.805806650282789e-05],\n",
       "  [0.000564806920802775],\n",
       "  [-6.392297288498175e-05],\n",
       "  [-0.0002826784983017346],\n",
       "  [0.00016400711244156604],\n",
       "  [0.0001221308539395284],\n",
       "  [-0.0008028219133630201],\n",
       "  [-0.00020167238852782606],\n",
       "  [0.00013212304693015244],\n",
       "  [0.0002085133843106143],\n",
       "  [0.0003528611550747846],\n",
       "  [-7.416873943095459e-05],\n",
       "  [-0.0004637154855772254],\n",
       "  [-0.0005982274612600797],\n",
       "  [-0.000185293122042612],\n",
       "  [-0.0003863862719580396],\n",
       "  [-0.0003628615257867247],\n",
       "  [-0.0007437576149209542],\n",
       "  [-0.00045385523730958894],\n",
       "  [-0.00045699353042130935]])"
      ]
     },
     "execution_count": 21,
     "metadata": {},
     "output_type": "execute_result"
    }
   ],
   "source": [
    "label"
   ]
  },
  {
   "cell_type": "code",
   "execution_count": 19,
   "metadata": {},
   "outputs": [
    {
     "name": "stdout",
     "output_type": "stream",
     "text": [
      "\u001b[0;31mSignature:\u001b[0m \u001b[0mpredict\u001b[0m\u001b[0;34m(\u001b[0m\u001b[0my\u001b[0m\u001b[0;34m,\u001b[0m \u001b[0mx\u001b[0m\u001b[0;34m,\u001b[0m \u001b[0mm\u001b[0m\u001b[0;34m,\u001b[0m \u001b[0moptions\u001b[0m\u001b[0;34m=\u001b[0m\u001b[0;34m''\u001b[0m\u001b[0;34m)\u001b[0m\u001b[0;34m\u001b[0m\u001b[0;34m\u001b[0m\u001b[0m\n",
      "\u001b[0;31mDocstring:\u001b[0m\n",
      "predict(y, x, m [, options]) -> (p_labels, p_acc, p_vals)\n",
      "\n",
      "y: a list/tuple/ndarray of l true labels (type must be int/double).\n",
      "   It is used for calculating the accuracy. Use [] if true labels are\n",
      "   unavailable.\n",
      "\n",
      "x: 1. a list/tuple of l training instances. Feature vector of\n",
      "      each training instance is a list/tuple or dictionary.\n",
      "\n",
      "   2. an l * n numpy ndarray or scipy spmatrix (n: number of features).\n",
      "\n",
      "Predict data (y, x) with the SVM model m.\n",
      "options:\n",
      "    -b probability_estimates: whether to output probability estimates, 0 or 1 (default 0); currently for logistic regression only\n",
      "    -q quiet mode (no outputs)\n",
      "\n",
      "The return tuple contains\n",
      "p_labels: a list of predicted labels\n",
      "p_acc: a tuple including  accuracy (for classification), mean-squared\n",
      "       error, and squared correlation coefficient (for regression).\n",
      "p_vals: a list of decision values or probability estimates (if '-b 1'\n",
      "        is specified). If k is the number of classes, for decision values,\n",
      "        each element includes results of predicting k binary-class\n",
      "        SVMs. if k = 2 and solver is not MCSVM_CS, only one decision value\n",
      "        is returned. For probabilities, each element contains k values\n",
      "        indicating the probability that the testing instance is in each class.\n",
      "        Note that the order of classes here is the same as 'model.label'\n",
      "        field in the model structure.\n",
      "\u001b[0;31mFile:\u001b[0m      ~/anaconda3/lib/python3.8/site-packages/liblinear/liblinearutil.py\n",
      "\u001b[0;31mType:\u001b[0m      function\n"
     ]
    }
   ],
   "source": [
    "?predict"
   ]
  },
  {
   "cell_type": "code",
   "execution_count": 4,
   "metadata": {},
   "outputs": [
    {
     "data": {
      "text/plain": [
       "(-5.0, 5.0)"
      ]
     },
     "execution_count": 4,
     "metadata": {},
     "output_type": "execute_result"
    },
    {
     "data": {
      "image/png": "[encoded data removed]",
      "text/plain": [
       "<Figure size 432x288 with 1 Axes>"
      ]
     },
     "metadata": {
      "needs_background": "light"
     },
     "output_type": "display_data"
    }
   ],
   "source": [
    "s = 40\n",
    "b1 = plt.scatter(X_train[:, 0], X_train[:, 1], c='white', s=s, edgecolors='k')\n",
    "b2 = plt.scatter(X_test[:, 0], X_test[:, 1], c='blueviolet', s=s,\n",
    "                 edgecolors='k')\n",
    "c = plt.scatter(X_outliers[:, 0], X_outliers[:, 1], c='gold', s=s,\n",
    "                edgecolors='k')\n",
    "plt.axis('tight')\n",
    "plt.xlim((-5, 5))\n",
    "plt.ylim((-5, 5))"
   ]
  },
  {
   "cell_type": "code",
   "execution_count": 5,
   "metadata": {},
   "outputs": [],
   "source": [
    "from liblinear.liblinearutil import *"
   ]
  },
  {
   "cell_type": "code",
   "execution_count": 9,
   "metadata": {},
   "outputs": [
    {
     "name": "stdout",
     "output_type": "stream",
     "text": [
      "\u001b[0;31mSignature:\u001b[0m \u001b[0mtrain\u001b[0m\u001b[0;34m(\u001b[0m\u001b[0marg1\u001b[0m\u001b[0;34m,\u001b[0m \u001b[0marg2\u001b[0m\u001b[0;34m=\u001b[0m\u001b[0;32mNone\u001b[0m\u001b[0;34m,\u001b[0m \u001b[0marg3\u001b[0m\u001b[0;34m=\u001b[0m\u001b[0;32mNone\u001b[0m\u001b[0;34m)\u001b[0m\u001b[0;34m\u001b[0m\u001b[0;34m\u001b[0m\u001b[0m\n",
      "\u001b[0;31mDocstring:\u001b[0m\n",
      "train(y, x [, options]) -> model | ACC\n",
      "\n",
      "y: a list/tuple/ndarray of l true labels (type must be int/double).\n",
      "\n",
      "x: 1. a list/tuple of l training instances. Feature vector of\n",
      "      each training instance is a list/tuple or dictionary.\n",
      "\n",
      "   2. an l * n numpy ndarray or scipy spmatrix (n: number of features).\n",
      "\n",
      "train(prob [, options]) -> model | ACC\n",
      "train(prob, param) -> model | ACC\n",
      "\n",
      "Train a model from data (y, x) or a problem prob using\n",
      "'options' or a parameter param.\n",
      "\n",
      "If '-v' is specified in 'options' (i.e., cross validation)\n",
      "either accuracy (ACC) or mean-squared error (MSE) is returned.\n",
      "\n",
      "options:\n",
      "    -s type : set type of solver (default 1)\n",
      "      for multi-class classification\n",
      "         0 -- L2-regularized logistic regression (primal)\n",
      "         1 -- L2-regularized L2-loss support vector classification (dual)\n",
      "         2 -- L2-regularized L2-loss support vector classification (primal)\n",
      "         3 -- L2-regularized L1-loss support vector classification (dual)\n",
      "         4 -- support vector classification by Crammer and Singer\n",
      "         5 -- L1-regularized L2-loss support vector classification\n",
      "         6 -- L1-regularized logistic regression\n",
      "         7 -- L2-regularized logistic regression (dual)\n",
      "      for regression\n",
      "        11 -- L2-regularized L2-loss support vector regression (primal)\n",
      "        12 -- L2-regularized L2-loss support vector regression (dual)\n",
      "        13 -- L2-regularized L1-loss support vector regression (dual)\n",
      "      for outlier detection\n",
      "        21 -- one-class support vector machine (dual)\n",
      "    -c cost : set the parameter C (default 1)\n",
      "    -p epsilon : set the epsilon in loss function of SVR (default 0.1)\n",
      "    -e epsilon : set tolerance of termination criterion\n",
      "        -s 0 and 2\n",
      "            |f'(w)|_2 <= eps*min(pos,neg)/l*|f'(w0)|_2,\n",
      "            where f is the primal function, (default 0.01)\n",
      "        -s 11\n",
      "            |f'(w)|_2 <= eps*|f'(w0)|_2 (default 0.0001)\n",
      "        -s 1, 3, 4, 7, and 21\n",
      "            Dual maximal violation <= eps; similar to libsvm (default 0.1 except 0.01 for -s 21)\n",
      "        -s 5 and 6\n",
      "            |f'(w)|_inf <= eps*min(pos,neg)/l*|f'(w0)|_inf,\n",
      "            where f is the primal function (default 0.01)\n",
      "        -s 12 and 13\n",
      "            |f'(alpha)|_1 <= eps |f'(alpha0)|,\n",
      "            where f is the dual function (default 0.1)\n",
      "    -B bias : if bias >= 0, instance x becomes [x; bias]; if < 0, no bias term added (default -1)\n",
      "    -R : not regularize the bias; must with -B 1 to have the bias; DON'T use this unless you know what it is\n",
      "        (for -s 0, 2, 5, 6, 11)\"\n",
      "    -wi weight: weights adjust the parameter C of different classes (see README for details)\n",
      "    -v n: n-fold cross validation mode\n",
      "    -C : find parameters (C for -s 0, 2 and C, p for -s 11)\n",
      "    -m nr_thread : parallel version with [nr_thread] threads (default 1; only for -s 0, 1, 2, 3, 11)\n",
      "    -q : quiet mode (no outputs)\n",
      "\u001b[0;31mFile:\u001b[0m      ~/anaconda3/lib/python3.8/site-packages/liblinear/liblinearutil.py\n",
      "\u001b[0;31mType:\u001b[0m      function\n"
     ]
    }
   ],
   "source": [
    "?train"
   ]
  },
  {
   "cell_type": "code",
   "execution_count": 10,
   "metadata": {},
   "outputs": [
    {
     "name": "stdout",
     "output_type": "stream",
     "text": [
      "\u001b[0;31mInit signature:\u001b[0m \u001b[0mproblem\u001b[0m\u001b[0;34m(\u001b[0m\u001b[0my\u001b[0m\u001b[0;34m,\u001b[0m \u001b[0mx\u001b[0m\u001b[0;34m,\u001b[0m \u001b[0mbias\u001b[0m\u001b[0;34m=\u001b[0m\u001b[0;34m-\u001b[0m\u001b[0;36m1\u001b[0m\u001b[0;34m)\u001b[0m\u001b[0;34m\u001b[0m\u001b[0;34m\u001b[0m\u001b[0m\n",
      "\u001b[0;31mDocstring:\u001b[0m      Structure base class\n",
      "\u001b[0;31mFile:\u001b[0m           ~/anaconda3/lib/python3.8/site-packages/liblinear/liblinear.py\n",
      "\u001b[0;31mType:\u001b[0m           PyCStructType\n",
      "\u001b[0;31mSubclasses:\u001b[0m     \n"
     ]
    }
   ],
   "source": [
    "?problem"
   ]
  },
  {
   "cell_type": "code",
   "execution_count": 11,
   "metadata": {},
   "outputs": [
    {
     "name": "stdout",
     "output_type": "stream",
     "text": [
      "\u001b[0;31mInit signature:\u001b[0m \u001b[0mparameter\u001b[0m\u001b[0;34m(\u001b[0m\u001b[0moptions\u001b[0m\u001b[0;34m=\u001b[0m\u001b[0;32mNone\u001b[0m\u001b[0;34m)\u001b[0m\u001b[0;34m\u001b[0m\u001b[0;34m\u001b[0m\u001b[0m\n",
      "\u001b[0;31mDocstring:\u001b[0m      Structure base class\n",
      "\u001b[0;31mFile:\u001b[0m           ~/anaconda3/lib/python3.8/site-packages/liblinear/liblinear.py\n",
      "\u001b[0;31mType:\u001b[0m           PyCStructType\n",
      "\u001b[0;31mSubclasses:\u001b[0m     \n"
     ]
    }
   ],
   "source": [
    "?parameter"
   ]
  },
  {
   "cell_type": "code",
   "execution_count": 12,
   "metadata": {},
   "outputs": [
    {
     "ename": "NameError",
     "evalue": "name 'fit' is not defined",
     "output_type": "error",
     "traceback": [
      "\u001b[0;31m---------------------------------------------------------------------------\u001b[0m",
      "\u001b[0;31mNameError\u001b[0m                                 Traceback (most recent call last)",
      "\u001b[0;32m<ipython-input-12-007aa50b0f3d>\u001b[0m in \u001b[0;36m<module>\u001b[0;34m\u001b[0m\n\u001b[0;32m----> 1\u001b[0;31m \u001b[0mfit\u001b[0m\u001b[0;34m\u001b[0m\u001b[0;34m\u001b[0m\u001b[0m\n\u001b[0m",
      "\u001b[0;31mNameError\u001b[0m: name 'fit' is not defined"
     ]
    }
   ],
   "source": []
  },
  {
   "cell_type": "code",
   "execution_count": null,
   "metadata": {},
   "outputs": [],
   "source": []
  }
 ],
 "metadata": {
  "interpreter": {
   "hash": "6c6392ee2ff096e4a004afc486af263f889515c6b64ce9a76f77f053a96fb36f"
  },
  "kernelspec": {
   "display_name": "Python 3.8.5 64-bit ('base': conda)",
   "name": "python3"
  },
  "language_info": {
   "codemirror_mode": {
    "name": "ipython",
    "version": 3
   },
   "file_extension": ".py",
   "mimetype": "text/x-python",
   "name": "python",
   "nbconvert_exporter": "python",
   "pygments_lexer": "ipython3",
   "version": "3.8.5"
  },
  "orig_nbformat": 4
 },
 "nbformat": 4,
 "nbformat_minor": 2
}